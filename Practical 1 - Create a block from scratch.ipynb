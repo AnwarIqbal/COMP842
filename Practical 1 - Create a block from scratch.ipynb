{
 "cells": [
  {
   "cell_type": "markdown",
   "metadata": {},
   "source": [
    "# Create a block from scratch"
   ]
  },
  {
   "cell_type": "code",
   "execution_count": 38,
   "metadata": {},
   "outputs": [],
   "source": [
    "# the hash library\n",
    "import hashlib as hash\n",
    "# data encoding service\n",
    "import pickle"
   ]
  },
  {
   "cell_type": "markdown",
   "metadata": {},
   "source": [
    "our block of data will contain many fields such as an:\n",
    "    identifier\n",
    "    time\n",
    "    previous hash\n",
    "    merkle root\n",
    "    list of transactions\n",
    "These can be stored in a python dictionary which is a key-value structure\n",
    "\n",
    "dict = { key:value,\n",
    "         key2:value2,\n",
    "        .\n",
    "        .\n",
    "        .\n",
    "        keyn:valuen   \n",
    "}"
   ]
  },
  {
   "cell_type": "code",
   "execution_count": 39,
   "metadata": {},
   "outputs": [
    {
     "name": "stdout",
     "output_type": "stream",
     "text": [
      "{'height': 1, 'time': 0, 'prevHash': 'null', 'merkleRoot': 'abcd', 'transactions': []}\n"
     ]
    }
   ],
   "source": [
    "# initialize a block. Note 'transactions' is initialized as an empty list\n",
    "block = {\n",
    "    'height':1,\n",
    "    'time':0,\n",
    "    'prevHash':'null',\n",
    "    'merkleRoot': 'abcd',\n",
    "    'transactions': []\n",
    "        }\n",
    "print(block)"
   ]
  },
  {
   "cell_type": "markdown",
   "metadata": {},
   "source": [
    "Let's create a transaction to store in our blockchain. Remember a transaction is just data; this can be anything represented as a digital object."
   ]
  },
  {
   "cell_type": "code",
   "execution_count": 40,
   "metadata": {},
   "outputs": [
    {
     "name": "stdout",
     "output_type": "stream",
     "text": [
      "Pay $1,000,000 to Jeff\n"
     ]
    }
   ],
   "source": [
    "# create a transaction (string)\n",
    "transaction='Pay $1,000,000 to Jeff'\n",
    "print(transaction)"
   ]
  },
  {
   "cell_type": "markdown",
   "metadata": {},
   "source": [
    "To store the transaction object, we will hash it to create a unique identifier of the information"
   ]
  },
  {
   "cell_type": "code",
   "execution_count": 41,
   "metadata": {
    "scrolled": true
   },
   "outputs": [
    {
     "ename": "TypeError",
     "evalue": "Unicode-objects must be encoded before hashing",
     "output_type": "error",
     "traceback": [
      "\u001b[1;31m---------------------------------------------------------------------------\u001b[0m",
      "\u001b[1;31mTypeError\u001b[0m                                 Traceback (most recent call last)",
      "\u001b[1;32m<ipython-input-41-6b646aa88a56>\u001b[0m in \u001b[0;36m<module>\u001b[1;34m\u001b[0m\n\u001b[1;32m----> 1\u001b[1;33m \u001b[0mhashed_tx\u001b[0m \u001b[1;33m=\u001b[0m \u001b[0mhash\u001b[0m\u001b[1;33m.\u001b[0m\u001b[0msha1\u001b[0m\u001b[1;33m(\u001b[0m\u001b[0mtransaction\u001b[0m\u001b[1;33m)\u001b[0m\u001b[1;33m\u001b[0m\u001b[1;33m\u001b[0m\u001b[0m\n\u001b[0m\u001b[0;32m      2\u001b[0m \u001b[0mprint\u001b[0m\u001b[1;33m(\u001b[0m\u001b[0mhashed_tx\u001b[0m\u001b[1;33m)\u001b[0m\u001b[1;33m\u001b[0m\u001b[1;33m\u001b[0m\u001b[0m\n",
      "\u001b[1;31mTypeError\u001b[0m: Unicode-objects must be encoded before hashing"
     ]
    }
   ],
   "source": [
    "hashed_tx = hash.sha1(transaction)\n",
    "print(hashed_tx)"
   ]
  },
  {
   "cell_type": "markdown",
   "metadata": {},
   "source": [
    "```p\n",
    "---------------------------------------------------------------------------\n",
    "TypeError                                 Traceback (most recent call last)\n",
    "<ipython-input-34-6b646aa88a56> in <module>\n",
    "----> 1 hashed_tx = hash.sha1(transaction)\n",
    "      2 print(hashed_tx)\n",
    "\n",
    "TypeError: Unicode-objects must be encoded before hashing\n",
    "```"
   ]
  },
  {
   "cell_type": "markdown",
   "metadata": {},
   "source": [
    "The error message above is telling us that we cannot hash a string object such as 'Pay $1,000,000 to Jeff'"
   ]
  },
  {
   "cell_type": "code",
   "execution_count": 42,
   "metadata": {},
   "outputs": [
    {
     "name": "stdout",
     "output_type": "stream",
     "text": [
      "b'Pay $1,000,000 to Jeff'\n"
     ]
    }
   ],
   "source": [
    "encoded_tx = transaction.encode()\n",
    "print(encoded_tx)"
   ]
  },
  {
   "cell_type": "markdown",
   "metadata": {},
   "source": [
    "the 'b' is telling us that the string is now a byte object"
   ]
  },
  {
   "cell_type": "code",
   "execution_count": null,
   "metadata": {},
   "outputs": [],
   "source": []
  }
 ],
 "metadata": {
  "kernelspec": {
   "display_name": "Python 3",
   "language": "python",
   "name": "python3"
  },
  "language_info": {
   "codemirror_mode": {
    "name": "ipython",
    "version": 3
   },
   "file_extension": ".py",
   "mimetype": "text/x-python",
   "name": "python",
   "nbconvert_exporter": "python",
   "pygments_lexer": "ipython3",
   "version": "3.7.1"
  }
 },
 "nbformat": 4,
 "nbformat_minor": 2
}
