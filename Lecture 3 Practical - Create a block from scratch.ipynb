{
 "cells": [
  {
   "cell_type": "markdown",
   "metadata": {},
   "source": [
    "# Create a block from scratch"
   ]
  },
  {
   "cell_type": "code",
   "execution_count": null,
   "metadata": {},
   "outputs": [],
   "source": [
    "# the hash library\n",
    "import * from hashlib as hash\n",
    "# data encoding service\n",
    "import pickle"
   ]
  },
  {
   "cell_type": "markdown",
   "metadata": {},
   "source": [
    "our block of data will contain many fields such as an:\n",
    "    identifier\n",
    "    time\n",
    "    previous hash\n",
    "    merkle root\n",
    "    list of transactions\n",
    "These can be stored in a python dictionary which is a key-value structure\n",
    "\n",
    "dict = { key:value,\n",
    "         key2:value2,\n",
    "        .\n",
    "        .\n",
    "        keyn:valuen    \n",
    "}"
   ]
  },
  {
   "cell_type": "code",
   "execution_count": 2,
   "metadata": {},
   "outputs": [
    {
     "name": "stdout",
     "output_type": "stream",
     "text": [
      "{'height': 1, 'time': 0, 'prevHash': '000000000000000000000000', 'merkleRoot': 'abcd'}\n"
     ]
    }
   ],
   "source": [
    "block = {'height':1,\n",
    "        'time':0,\n",
    "        'prevHash':'000000000000000000000000',\n",
    "        'merkleRoot': 'abcd'\n",
    "        }\n",
    "print(block)"
   ]
  },
  {
   "cell_type": "code",
   "execution_count": 3,
   "metadata": {},
   "outputs": [
    {
     "name": "stdout",
     "output_type": "stream",
     "text": [
      "jeff\n"
     ]
    }
   ],
   "source": [
    "code='jeff'\n",
    "print(code)"
   ]
  },
  {
   "cell_type": "code",
   "execution_count": 17,
   "metadata": {},
   "outputs": [
    {
     "name": "stdout",
     "output_type": "stream",
     "text": [
      "<md5 HASH object @ 0x000001AC7386F878>\n"
     ]
    }
   ],
   "source": [
    "import hashlib\n",
    "hashedcode = hashlib.md5(code.encode())\n",
    "print(hashedcode)"
   ]
  },
  {
   "cell_type": "code",
   "execution_count": null,
   "metadata": {},
   "outputs": [],
   "source": []
  }
 ],
 "metadata": {
  "kernelspec": {
   "display_name": "Python 3",
   "language": "python",
   "name": "python3"
  },
  "language_info": {
   "codemirror_mode": {
    "name": "ipython",
    "version": 3
   },
   "file_extension": ".py",
   "mimetype": "text/x-python",
   "name": "python",
   "nbconvert_exporter": "python",
   "pygments_lexer": "ipython3",
   "version": "3.6.5"
  }
 },
 "nbformat": 4,
 "nbformat_minor": 2
}
